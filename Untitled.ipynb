{
 "cells": [
  {
   "cell_type": "code",
   "execution_count": 1,
   "metadata": {},
   "outputs": [
    {
     "name": "stdout",
     "output_type": "stream",
     "text": [
      "hello world\n"
     ]
    }
   ],
   "source": [
    "print(\"hello world\")"
   ]
  },
  {
   "cell_type": "code",
   "execution_count": 3,
   "metadata": {},
   "outputs": [
    {
     "name": "stdout",
     "output_type": "stream",
     "text": [
      "Sorted Array in Ascending Order:\n",
      "[-2, -1, 0, 0, 7, 8, 8, 9, 9, 11, 45]\n"
     ]
    }
   ],
   "source": [
    "def bubbleSort(arr):\n",
    "  for i in range(len(arr)):\n",
    "    for j in range(0, len(arr)-i-1):\n",
    "      if(arr[j] > arr[j+1]):\n",
    "        temp=arr[j]\n",
    "        arr[j]=arr[j+1]\n",
    "        arr[j+1]=temp\n",
    "        \n",
    "data = [-2,45,0,11,0,9,8,9,8,7,-1]\n",
    "bubbleSort(data)\n",
    "print('Sorted Array in Ascending Order:')\n",
    "print(data)"
   ]
  },
  {
   "cell_type": "code",
   "execution_count": 6,
   "metadata": {},
   "outputs": [
    {
     "name": "stdout",
     "output_type": "stream",
     "text": [
      "Sorted Array in Ascending Order:\n",
      "[-2, 45, 0, 11, 0, 9, 8, 9, 8, 7, -1]\n"
     ]
    }
   ],
   "source": [
    "def selSort(arr,size):\n",
    "    for i in range(size):\n",
    "        for i in range(i+1,size):\n",
    "            if(arr[i]<arr[i]):\n",
    "                arr[i],arr[j]=arr[j],arr[i]\n",
    "                \n",
    "data = [-2,45,0,11,0,9,8,9,8,7,-1]\n",
    "selSort(data,len(data))\n",
    "print('Sorted Array in Ascending Order:')\n",
    "print(data)"
   ]
  },
  {
   "cell_type": "code",
   "execution_count": 7,
   "metadata": {},
   "outputs": [
    {
     "name": "stdout",
     "output_type": "stream",
     "text": [
      "Sorted Array in Ascending Order:\n",
      "[1, 3, 4, 5, 9]\n"
     ]
    }
   ],
   "source": [
    "def insertionSort(array):\n",
    "    for i in range(1, len(array)):\n",
    "        key = array[i]\n",
    "        j=i-1       \n",
    "        while j >= 0 and key < array[j]:\n",
    "            array[j + 1] = array[j]\n",
    "            j = j - 1\n",
    "        array[j + 1] = key\n",
    "\n",
    "data = [9, 5, 1, 4, 3]\n",
    "insertionSort(data)\n",
    "print('Sorted Array in Ascending Order:')\n",
    "print(data)"
   ]
  },
  {
   "cell_type": "code",
   "execution_count": null,
   "metadata": {},
   "outputs": [],
   "source": []
  }
 ],
 "metadata": {
  "kernelspec": {
   "display_name": "Python 3",
   "language": "python",
   "name": "python3"
  },
  "language_info": {
   "codemirror_mode": {
    "name": "ipython",
    "version": 3
   },
   "file_extension": ".py",
   "mimetype": "text/x-python",
   "name": "python",
   "nbconvert_exporter": "python",
   "pygments_lexer": "ipython3",
   "version": "3.7.3"
  }
 },
 "nbformat": 4,
 "nbformat_minor": 2
}
